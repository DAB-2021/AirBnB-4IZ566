{
 "cells": [
  {
   "cell_type": "markdown",
   "source": [
    "# Models\n",
    "### XGBoost adn MLP Classifier\n",
    "Source: https://www.kaggle.com/vaibhav2025/airbnb-listings-reviews\n",
    "Dataset file is original one preprocessed by PrepData notebook"
   ],
   "metadata": {
    "collapsed": false,
    "pycharm": {
     "name": "#%% md\n"
    }
   }
  },
  {
   "cell_type": "code",
   "execution_count": 19,
   "id": "514f7518",
   "metadata": {},
   "outputs": [],
   "source": [
    "import pandas as pd\n",
    "import numpy as np\n",
    "from sklearn.decomposition import TruncatedSVD\n",
    "from sklearn.metrics import mean_squared_error\n",
    "from sklearn.linear_model import LinearRegression\n",
    "from sklearn.ensemble import RandomForestRegressor\n",
    "from sklearn.pipeline import Pipeline\n",
    "from keras import Sequential\n",
    "from keras import layers\n",
    "from tensorflow.keras.layers import Dense\n",
    "from sklearn.model_selection import train_test_split\n",
    "import tensorflow as tf\n",
    "import os\n",
    "import collections\n",
    "from sklearn import *\n",
    "import matplotlib.pyplot as plt\n",
    "from sklearn import preprocessing\n",
    "from sklearn.preprocessing import LabelEncoder\n",
    "from sklearn.neural_network import MLPClassifier\n",
    "from sklearn.model_selection import GridSearchCV\n",
    "from sklearn.preprocessing import StandardScaler"
   ]
  },
  {
   "cell_type": "code",
   "execution_count": 83,
   "outputs": [
    {
     "data": {
      "text/plain": "   listing_id                                              name  host_since  \\\n0      281420    Beautiful Flat in le Village Montmartre, Paris  2011-12-03   \n1     3705183                        39 mÂ² Paris (Sacre CÅ“ur)  2013-11-29   \n2     4082273               Lovely apartment with Terrace, 60m2  2014-07-31   \n3     4797344               Cosy studio (close to Eiffel tower)  2013-12-17   \n4     4823489  Close to Eiffel Tower - Beautiful flat : 2 rooms  2014-12-14   \n\n                  host_location host_is_superhost  host_total_listings_count  \\\n0  Paris, Ile-de-France, France                 f                        1.0   \n1  Paris, Ile-de-France, France                 f                        1.0   \n2  Paris, Ile-de-France, France                 f                        1.0   \n3  Paris, Ile-de-France, France                 f                        1.0   \n4  Paris, Ile-de-France, France                 f                        1.0   \n\n  host_identity_verified      neighbourhood  latitude  longitude  ... balcony  \\\n0                      f  Buttes-Montmartre  48.88668    2.33343  ...   False   \n1                      t  Buttes-Montmartre  48.88617    2.34515  ...   False   \n2                      f             Elysee  48.88112    2.31712  ...   False   \n3                      t          Vaugirard  48.84571    2.30584  ...   False   \n4                      f              Passy  48.85500    2.26979  ...   False   \n\n  Private_entrance     TV  Dedicated_workspace  Refrigerator  Cooking  \\\n0            False  False                False         False    False   \n1            False  False                False         False    False   \n2            False   True                False         False    False   \n3            False   True                False         False    False   \n4            False   True                False         False    False   \n\n   Bathtub  Shower  price_category  price_catN  \n0    False   False           Cheap         1.0  \n1    False   False         Average         2.0  \n2    False   False         Average         2.0  \n3    False   False           Cheap         1.0  \n4     True   False           Cheap         1.0  \n\n[5 rows x 40 columns]",
      "text/html": "<div>\n<style scoped>\n    .dataframe tbody tr th:only-of-type {\n        vertical-align: middle;\n    }\n\n    .dataframe tbody tr th {\n        vertical-align: top;\n    }\n\n    .dataframe thead th {\n        text-align: right;\n    }\n</style>\n<table border=\"1\" class=\"dataframe\">\n  <thead>\n    <tr style=\"text-align: right;\">\n      <th></th>\n      <th>listing_id</th>\n      <th>name</th>\n      <th>host_since</th>\n      <th>host_location</th>\n      <th>host_is_superhost</th>\n      <th>host_total_listings_count</th>\n      <th>host_identity_verified</th>\n      <th>neighbourhood</th>\n      <th>latitude</th>\n      <th>longitude</th>\n      <th>...</th>\n      <th>balcony</th>\n      <th>Private_entrance</th>\n      <th>TV</th>\n      <th>Dedicated_workspace</th>\n      <th>Refrigerator</th>\n      <th>Cooking</th>\n      <th>Bathtub</th>\n      <th>Shower</th>\n      <th>price_category</th>\n      <th>price_catN</th>\n    </tr>\n  </thead>\n  <tbody>\n    <tr>\n      <th>0</th>\n      <td>281420</td>\n      <td>Beautiful Flat in le Village Montmartre, Paris</td>\n      <td>2011-12-03</td>\n      <td>Paris, Ile-de-France, France</td>\n      <td>f</td>\n      <td>1.0</td>\n      <td>f</td>\n      <td>Buttes-Montmartre</td>\n      <td>48.88668</td>\n      <td>2.33343</td>\n      <td>...</td>\n      <td>False</td>\n      <td>False</td>\n      <td>False</td>\n      <td>False</td>\n      <td>False</td>\n      <td>False</td>\n      <td>False</td>\n      <td>False</td>\n      <td>Cheap</td>\n      <td>1.0</td>\n    </tr>\n    <tr>\n      <th>1</th>\n      <td>3705183</td>\n      <td>39 mÂ² Paris (Sacre CÅ“ur)</td>\n      <td>2013-11-29</td>\n      <td>Paris, Ile-de-France, France</td>\n      <td>f</td>\n      <td>1.0</td>\n      <td>t</td>\n      <td>Buttes-Montmartre</td>\n      <td>48.88617</td>\n      <td>2.34515</td>\n      <td>...</td>\n      <td>False</td>\n      <td>False</td>\n      <td>False</td>\n      <td>False</td>\n      <td>False</td>\n      <td>False</td>\n      <td>False</td>\n      <td>False</td>\n      <td>Average</td>\n      <td>2.0</td>\n    </tr>\n    <tr>\n      <th>2</th>\n      <td>4082273</td>\n      <td>Lovely apartment with Terrace, 60m2</td>\n      <td>2014-07-31</td>\n      <td>Paris, Ile-de-France, France</td>\n      <td>f</td>\n      <td>1.0</td>\n      <td>f</td>\n      <td>Elysee</td>\n      <td>48.88112</td>\n      <td>2.31712</td>\n      <td>...</td>\n      <td>False</td>\n      <td>False</td>\n      <td>True</td>\n      <td>False</td>\n      <td>False</td>\n      <td>False</td>\n      <td>False</td>\n      <td>False</td>\n      <td>Average</td>\n      <td>2.0</td>\n    </tr>\n    <tr>\n      <th>3</th>\n      <td>4797344</td>\n      <td>Cosy studio (close to Eiffel tower)</td>\n      <td>2013-12-17</td>\n      <td>Paris, Ile-de-France, France</td>\n      <td>f</td>\n      <td>1.0</td>\n      <td>t</td>\n      <td>Vaugirard</td>\n      <td>48.84571</td>\n      <td>2.30584</td>\n      <td>...</td>\n      <td>False</td>\n      <td>False</td>\n      <td>True</td>\n      <td>False</td>\n      <td>False</td>\n      <td>False</td>\n      <td>False</td>\n      <td>False</td>\n      <td>Cheap</td>\n      <td>1.0</td>\n    </tr>\n    <tr>\n      <th>4</th>\n      <td>4823489</td>\n      <td>Close to Eiffel Tower - Beautiful flat : 2 rooms</td>\n      <td>2014-12-14</td>\n      <td>Paris, Ile-de-France, France</td>\n      <td>f</td>\n      <td>1.0</td>\n      <td>f</td>\n      <td>Passy</td>\n      <td>48.85500</td>\n      <td>2.26979</td>\n      <td>...</td>\n      <td>False</td>\n      <td>False</td>\n      <td>True</td>\n      <td>False</td>\n      <td>False</td>\n      <td>False</td>\n      <td>True</td>\n      <td>False</td>\n      <td>Cheap</td>\n      <td>1.0</td>\n    </tr>\n  </tbody>\n</table>\n<p>5 rows × 40 columns</p>\n</div>"
     },
     "execution_count": 83,
     "metadata": {},
     "output_type": "execute_result"
    }
   ],
   "source": [
    "df = pd.read_csv('Airbnb_Data/modelListings.csv')\n",
    "df.head(5)"
   ],
   "metadata": {
    "collapsed": false,
    "pycharm": {
     "name": "#%%\n"
    }
   }
  },
  {
   "cell_type": "code",
   "execution_count": 17,
   "outputs": [
    {
     "data": {
      "text/plain": "listing_id                       int64\nname                            object\nhost_since                      object\nhost_location                   object\nhost_is_superhost               object\nhost_total_listings_count      float64\nhost_identity_verified          object\nneighbourhood                   object\nlatitude                       float64\nlongitude                      float64\nproperty_type                   object\nroom_type                       object\naccommodates                     int64\nbedrooms                       float64\nprice                            int64\nminimum_nights                   int64\nmaximum_nights                   int64\nreview_scores_rating           float64\nreview_scores_accuracy         float64\nreview_scores_cleanliness      float64\nreview_scores_checkin          float64\nreview_scores_communication    float64\nreview_scores_location         float64\nreview_scores_value            float64\ninstant_bookable                object\nparking                           bool\nHot_water                         bool\nAir_conditioning                  bool\nLockbox                           bool\nEthernet connection               bool\nbalcony                           bool\nPrivate_entrance                  bool\nTV                                bool\nDedicated_workspace               bool\nRefrigerator                      bool\nCooking                           bool\nBathtub                           bool\nShower                            bool\nprice_category                  object\ndtype: object"
     },
     "execution_count": 17,
     "metadata": {},
     "output_type": "execute_result"
    }
   ],
   "source": [
    "df.dtypes"
   ],
   "metadata": {
    "collapsed": false,
    "pycharm": {
     "name": "#%%\n"
    }
   }
  },
  {
   "cell_type": "markdown",
   "source": [],
   "metadata": {
    "collapsed": false
   }
  },
  {
   "cell_type": "code",
   "execution_count": 108,
   "outputs": [],
   "source": [
    "df['price_catN'] = df['price_catN'].astype(int)"
   ],
   "metadata": {
    "collapsed": false,
    "pycharm": {
     "name": "#%%\n"
    }
   }
  },
  {
   "cell_type": "code",
   "execution_count": 114,
   "outputs": [
    {
     "data": {
      "text/plain": "2    22090\n1    21828\n3     3876\nName: price_catN, dtype: int64"
     },
     "execution_count": 114,
     "metadata": {},
     "output_type": "execute_result"
    }
   ],
   "source": [
    "df['price_catN'].value_counts()"
   ],
   "metadata": {
    "collapsed": false,
    "pycharm": {
     "name": "#%%\n"
    }
   }
  },
  {
   "cell_type": "code",
   "execution_count": 125,
   "outputs": [],
   "source": [
    "le = preprocessing.LabelEncoder()\n",
    "y = df['price_catN']\n",
    "X = df.drop(['price_category','price','listing_id','name','host_location', 'price_catN'], axis=1)\n",
    "X = X.apply(le.fit_transform)"
   ],
   "metadata": {
    "collapsed": false,
    "pycharm": {
     "name": "#%%\n"
    }
   }
  },
  {
   "cell_type": "code",
   "execution_count": 126,
   "outputs": [],
   "source": [
    "X_train, X_test, y_train, y_test = train_test_split(X, y, test_size=0.2, random_state=101)"
   ],
   "metadata": {
    "collapsed": false,
    "pycharm": {
     "name": "#%%\n"
    }
   }
  },
  {
   "cell_type": "code",
   "execution_count": 127,
   "outputs": [],
   "source": [
    "\n",
    "scaler = StandardScaler()\n",
    "train_scaled = scaler.fit_transform(X_train)\n",
    "test_scaled = scaler.transform(X_test)"
   ],
   "metadata": {
    "collapsed": false,
    "pycharm": {
     "name": "#%%\n"
    }
   }
  },
  {
   "cell_type": "code",
   "execution_count": 121,
   "outputs": [
    {
     "name": "stderr",
     "output_type": "stream",
     "text": [
      "C:\\Users\\mates\\anaconda3\\lib\\site-packages\\sklearn\\neural_network\\_multilayer_perceptron.py:614: ConvergenceWarning: Stochastic Optimizer: Maximum iterations (100) reached and the optimization hasn't converged yet.\n",
      "  warnings.warn(\n"
     ]
    },
    {
     "data": {
      "text/plain": "GridSearchCV(cv=3, estimator=MLPClassifier(max_iter=100), n_jobs=-1,\n             param_grid={'activation': ['tanh', 'relu'],\n                         'alpha': [0.0001, 0.05],\n                         'hidden_layer_sizes': [(50, 50, 50), (50, 100, 50),\n                                                (100,)],\n                         'learning_rate': ['constant', 'adaptive'],\n                         'solver': ['sgd', 'adam']})"
     },
     "execution_count": 121,
     "metadata": {},
     "output_type": "execute_result"
    }
   ],
   "source": [
    "\n",
    "model = MLPClassifier(max_iter=100)\n",
    "#specifikace parametru\n",
    "parameter_space = {\n",
    "    'hidden_layer_sizes': [(50,50,50), (50,100,50), (100,)],\n",
    "    'activation': ['tanh', 'relu'],\n",
    "    'solver': ['sgd', 'adam'],\n",
    "    'alpha': [0.0001, 0.05],\n",
    "    'learning_rate': ['constant','adaptive'],\n",
    "}\n",
    "#nalezeni nejlepsich parametru\n",
    "clf = GridSearchCV(model, parameter_space, n_jobs=-1, cv=3)\n",
    "#trenovani\n",
    "clf.fit(train_scaled, y_train)"
   ],
   "metadata": {
    "collapsed": false,
    "pycharm": {
     "name": "#%%\n"
    }
   }
  },
  {
   "cell_type": "code",
   "execution_count": 122,
   "outputs": [],
   "source": [
    "#predikce\n",
    "mlp_pred = clf.predict(test_scaled)"
   ],
   "metadata": {
    "collapsed": false,
    "pycharm": {
     "name": "#%%\n"
    }
   }
  },
  {
   "cell_type": "code",
   "execution_count": 123,
   "outputs": [
    {
     "data": {
      "text/plain": "0.7147191128779161"
     },
     "execution_count": 123,
     "metadata": {},
     "output_type": "execute_result"
    }
   ],
   "source": [
    "from sklearn.metrics import accuracy_score\n",
    "accuracy_score(y_test, mlp_pred)"
   ],
   "metadata": {
    "collapsed": false,
    "pycharm": {
     "name": "#%%\n"
    }
   }
  },
  {
   "cell_type": "code",
   "execution_count": 124,
   "outputs": [
    {
     "data": {
      "text/plain": "<Figure size 432x288 with 2 Axes>",
      "image/png": "[encoded data removed]"
     },
     "metadata": {
      "needs_background": "light"
     },
     "output_type": "display_data"
    }
   ],
   "source": [
    "from sklearn.metrics import plot_confusion_matrix\n",
    "\n",
    "disp = plot_confusion_matrix(clf, test_scaled, y_test,\n",
    "                                 cmap=plt.cm.Blues)\n",
    "\n",
    "plt.show()"
   ],
   "metadata": {
    "collapsed": false,
    "pycharm": {
     "name": "#%%\n"
    }
   }
  },
  {
   "cell_type": "code",
   "execution_count": 128,
   "outputs": [
    {
     "name": "stdout",
     "output_type": "stream",
     "text": [
      "Fitting 5 folds for each of 5 candidates, totalling 25 fits\n"
     ]
    },
    {
     "name": "stderr",
     "output_type": "stream",
     "text": [
      "C:\\Users\\mates\\anaconda3\\lib\\site-packages\\sklearn\\model_selection\\_search.py:918: UserWarning: One or more of the test scores are non-finite: [       nan 0.72253171 0.71913169 0.73294102        nan]\n",
      "  warnings.warn(\n",
      "C:\\Users\\mates\\anaconda3\\lib\\site-packages\\xgboost\\sklearn.py:888: UserWarning: The use of label encoder in XGBClassifier is deprecated and will be removed in a future release. To remove this warning, do the following: 1) Pass option use_label_encoder=False when constructing XGBClassifier object; and 2) Encode your labels (y) as integers starting with 0, i.e. 0, 1, 2, ..., [num_class - 1].\n",
      "  warnings.warn(label_encoder_deprecation_msg, UserWarning)\n"
     ]
    },
    {
     "name": "stdout",
     "output_type": "stream",
     "text": [
      "[12:54:16] WARNING: ..\\src\\learner.cc:1061: Starting in XGBoost 1.3.0, the default evaluation metric used with the objective 'multi:softprob' was changed from 'merror' to 'mlogloss'. Explicitly set eval_metric if you'd like to restore the old behavior.\n"
     ]
    }
   ],
   "source": [
    "from xgboost import XGBClassifier\n",
    "from sklearn.model_selection import RandomizedSearchCV\n",
    "from scipy import stats\n",
    "#vypis parametru\n",
    "params = {\n",
    "        'n_estimators': stats.randint(150, 1000),\n",
    "        'learning_rate': stats.uniform(0.01, 0.6),\n",
    "        'min_child_weight': [1, 5, 10],\n",
    "        'gamma': [0.5, 1, 1.5, 2, 5],\n",
    "        'subsample': [0.6, 0.8, 1.0,2],\n",
    "        'colsample_bytree': [0.6, 0.8, 1.0],\n",
    "        'max_depth': [6,7,8,9,10]\n",
    "\n",
    "        }\n",
    "xgb = XGBClassifier()\n",
    "#vyber nejlepsich parametru\n",
    "rs = RandomizedSearchCV(xgb, param_distributions=params, n_iter=5, n_jobs=4, cv=5, verbose=3, random_state=1001 )\n",
    "#trenovani\n",
    "rs.fit(X, y_train)\n",
    "\n",
    "#predikce\n",
    "y_pred = rs.best_estimator_.predict(test_scaled)"
   ],
   "metadata": {
    "collapsed": false,
    "pycharm": {
     "name": "#%%\n"
    }
   }
  },
  {
   "cell_type": "code",
   "execution_count": 129,
   "outputs": [
    {
     "data": {
      "text/plain": "0.7401401820274087"
     },
     "execution_count": 129,
     "metadata": {},
     "output_type": "execute_result"
    }
   ],
   "source": [
    "accuracy_score(y_test, y_pred)"
   ],
   "metadata": {
    "collapsed": false,
    "pycharm": {
     "name": "#%%\n"
    }
   }
  },
  {
   "cell_type": "code",
   "execution_count": 130,
   "outputs": [
    {
     "data": {
      "text/plain": "<Figure size 432x288 with 2 Axes>",
      "image/png": "[encoded data removed]"
     },
     "metadata": {
      "needs_background": "light"
     },
     "output_type": "display_data"
    }
   ],
   "source": [
    "disp = plot_confusion_matrix(rs.best_estimator_, test_scaled, y_test,\n",
    "                                 cmap=plt.cm.Blues)\n",
    "\n",
    "plt.show()"
   ],
   "metadata": {
    "collapsed": false,
    "pycharm": {
     "name": "#%%\n"
    }
   }
  },
  {
   "cell_type": "code",
   "execution_count": 131,
   "outputs": [
    {
     "name": "stdout",
     "output_type": "stream",
     "text": [
      "Feature: 0, Score: 0.01182\n",
      "Feature: 1, Score: 0.01522\n",
      "Feature: 2, Score: 0.02604\n",
      "Feature: 3, Score: 0.00927\n",
      "Feature: 4, Score: 0.01750\n",
      "Feature: 5, Score: 0.02416\n",
      "Feature: 6, Score: 0.02595\n",
      "Feature: 7, Score: 0.02424\n",
      "Feature: 8, Score: 0.08996\n",
      "Feature: 9, Score: 0.14107\n",
      "Feature: 10, Score: 0.13910\n",
      "Feature: 11, Score: 0.01238\n",
      "Feature: 12, Score: 0.00867\n",
      "Feature: 13, Score: 0.01537\n",
      "Feature: 14, Score: 0.00621\n",
      "Feature: 15, Score: 0.02299\n",
      "Feature: 16, Score: 0.01308\n",
      "Feature: 17, Score: 0.00951\n",
      "Feature: 18, Score: 0.02868\n",
      "Feature: 19, Score: 0.00972\n",
      "Feature: 20, Score: 0.02460\n",
      "Feature: 21, Score: 0.01358\n",
      "Feature: 22, Score: 0.02132\n",
      "Feature: 23, Score: 0.07868\n",
      "Feature: 24, Score: 0.01116\n",
      "Feature: 25, Score: 0.01176\n",
      "Feature: 26, Score: 0.01389\n",
      "Feature: 27, Score: 0.00971\n",
      "Feature: 28, Score: 0.07343\n",
      "Feature: 29, Score: 0.01934\n",
      "Feature: 30, Score: 0.03418\n",
      "Feature: 31, Score: 0.01760\n",
      "Feature: 32, Score: 0.00951\n",
      "Feature: 33, Score: 0.01028\n"
     ]
    }
   ],
   "source": [
    "importance = rs.best_estimator_.feature_importances_\n",
    "# summarize feature importance\n",
    "for i,v in enumerate(importance):\n",
    "\tprint('Feature: %0d, Score: %.5f' % (i,v))"
   ],
   "metadata": {
    "collapsed": false,
    "pycharm": {
     "name": "#%%\n"
    }
   }
  },
  {
   "cell_type": "code",
   "execution_count": 132,
   "outputs": [
    {
     "data": {
      "text/plain": "<AxesSubplot:>"
     },
     "execution_count": 132,
     "metadata": {},
     "output_type": "execute_result"
    },
    {
     "data": {
      "text/plain": "<Figure size 432x288 with 1 Axes>",
      "image/png": "[encoded data removed]"
     },
     "metadata": {
      "needs_background": "light"
     },
     "output_type": "display_data"
    }
   ],
   "source": [
    "(pd.Series(rs.best_estimator_.feature_importances_, index=X.columns)\n",
    "   .nlargest(20)\n",
    "   .plot(kind='barh'))"
   ],
   "metadata": {
    "collapsed": false,
    "pycharm": {
     "name": "#%%\n"
    }
   }
  },
  {
   "cell_type": "code",
   "execution_count": 133,
   "outputs": [],
   "source": [],
   "metadata": {
    "collapsed": false,
    "pycharm": {
     "name": "#%%\n"
    }
   }
  },
  {
   "cell_type": "code",
   "execution_count": null,
   "outputs": [],
   "source": [],
   "metadata": {
    "collapsed": false,
    "pycharm": {
     "name": "#%%\n"
    }
   }
  }
 ],
 "metadata": {
  "kernelspec": {
   "display_name": "Python 3",
   "language": "python",
   "name": "python3"
  },
  "language_info": {
   "codemirror_mode": {
    "name": "ipython",
    "version": 3
   },
   "file_extension": ".py",
   "mimetype": "text/x-python",
   "name": "python",
   "nbconvert_exporter": "python",
   "pygments_lexer": "ipython3",
   "version": "3.8.8"
  }
 },
 "nbformat": 4,
 "nbformat_minor": 5
}