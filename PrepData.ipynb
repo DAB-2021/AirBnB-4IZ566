{
 "cells": [
  {
   "cell_type": "markdown",
   "metadata": {
    "pycharm": {
     "name": "#%% md\n"
    }
   },
   "source": [
    "# AirBnB Listings\n",
    "## Data preprocessing\n",
    "Dataset contains AirBnB listings from many cities, we will select and continue our work with subset of Listings from Paris\n",
    "Source: https://www.kaggle.com/vaibhav2025/airbnb-listings-reviews"
   ]
  },
  {
   "cell_type": "markdown",
   "metadata": {
    "pycharm": {
     "name": "#%% md\n"
    }
   },
   "source": [
    "Selecting Paris-only data, getting rid of useless columns, filling missing values\n"
   ]
  },
  {
   "cell_type": "code",
   "execution_count": 4,
   "metadata": {},
   "outputs": [],
   "source": [
    "#importing libraries\n",
    "import pandas as pd\n",
    "import numpy as np"
   ]
  },
  {
   "cell_type": "code",
   "execution_count": 5,
   "metadata": {
    "pycharm": {
     "name": "#%%\n"
    }
   },
   "outputs": [
    {
     "data": {
      "text/plain": "   listing_id                                              name   host_id  \\\n0      281420    Beautiful Flat in le Village Montmartre, Paris   1466919   \n1     3705183                   39 mÃ‚Â² Paris (Sacre CÃ…â€œur)  10328771   \n2     4082273               Lovely apartment with Terrace, 60m2  19252768   \n3     4797344               Cosy studio (close to Eiffel tower)  10668311   \n4     4823489  Close to Eiffel Tower - Beautiful flat : 2 rooms  24837558   \n\n   host_since                 host_location host_response_time  \\\n0  03/12/2011  Paris, Ile-de-France, France                NaN   \n1  29/11/2013  Paris, Ile-de-France, France                NaN   \n2  31/07/2014  Paris, Ile-de-France, France                NaN   \n3  17/12/2013  Paris, Ile-de-France, France                NaN   \n4  14/12/2014  Paris, Ile-de-France, France                NaN   \n\n   host_response_rate  host_acceptance_rate host_is_superhost  \\\n0                 NaN                   NaN                 f   \n1                 NaN                   NaN                 f   \n2                 NaN                   NaN                 f   \n3                 NaN                   NaN                 f   \n4                 NaN                   NaN                 f   \n\n   host_total_listings_count  ... minimum_nights maximum_nights  \\\n0                        1.0  ...              2           1125   \n1                        1.0  ...              2           1125   \n2                        1.0  ...              2           1125   \n3                        1.0  ...              2           1125   \n4                        1.0  ...              2           1125   \n\n  review_scores_rating review_scores_accuracy review_scores_cleanliness  \\\n0                100.0                   10.0                      10.0   \n1                100.0                   10.0                      10.0   \n2                100.0                   10.0                      10.0   \n3                100.0                   10.0                      10.0   \n4                100.0                   10.0                      10.0   \n\n   review_scores_checkin  review_scores_communication review_scores_location  \\\n0                   10.0                         10.0                   10.0   \n1                   10.0                         10.0                   10.0   \n2                   10.0                         10.0                   10.0   \n3                   10.0                         10.0                   10.0   \n4                   10.0                         10.0                   10.0   \n\n  review_scores_value  instant_bookable  \n0                10.0                 f  \n1                10.0                 f  \n2                10.0                 f  \n3                10.0                 f  \n4                10.0                 f  \n\n[5 rows x 33 columns]",
      "text/html": "<div>\n<style scoped>\n    .dataframe tbody tr th:only-of-type {\n        vertical-align: middle;\n    }\n\n    .dataframe tbody tr th {\n        vertical-align: top;\n    }\n\n    .dataframe thead th {\n        text-align: right;\n    }\n</style>\n<table border=\"1\" class=\"dataframe\">\n  <thead>\n    <tr style=\"text-align: right;\">\n      <th></th>\n      <th>listing_id</th>\n      <th>name</th>\n      <th>host_id</th>\n      <th>host_since</th>\n      <th>host_location</th>\n      <th>host_response_time</th>\n      <th>host_response_rate</th>\n      <th>host_acceptance_rate</th>\n      <th>host_is_superhost</th>\n      <th>host_total_listings_count</th>\n      <th>...</th>\n      <th>minimum_nights</th>\n      <th>maximum_nights</th>\n      <th>review_scores_rating</th>\n      <th>review_scores_accuracy</th>\n      <th>review_scores_cleanliness</th>\n      <th>review_scores_checkin</th>\n      <th>review_scores_communication</th>\n      <th>review_scores_location</th>\n      <th>review_scores_value</th>\n      <th>instant_bookable</th>\n    </tr>\n  </thead>\n  <tbody>\n    <tr>\n      <th>0</th>\n      <td>281420</td>\n      <td>Beautiful Flat in le Village Montmartre, Paris</td>\n      <td>1466919</td>\n      <td>03/12/2011</td>\n      <td>Paris, Ile-de-France, France</td>\n      <td>NaN</td>\n      <td>NaN</td>\n      <td>NaN</td>\n      <td>f</td>\n      <td>1.0</td>\n      <td>...</td>\n      <td>2</td>\n      <td>1125</td>\n      <td>100.0</td>\n      <td>10.0</td>\n      <td>10.0</td>\n      <td>10.0</td>\n      <td>10.0</td>\n      <td>10.0</td>\n      <td>10.0</td>\n      <td>f</td>\n    </tr>\n    <tr>\n      <th>1</th>\n      <td>3705183</td>\n      <td>39 mÃ‚Â² Paris (Sacre CÃ…â€œur)</td>\n      <td>10328771</td>\n      <td>29/11/2013</td>\n      <td>Paris, Ile-de-France, France</td>\n      <td>NaN</td>\n      <td>NaN</td>\n      <td>NaN</td>\n      <td>f</td>\n      <td>1.0</td>\n      <td>...</td>\n      <td>2</td>\n      <td>1125</td>\n      <td>100.0</td>\n      <td>10.0</td>\n      <td>10.0</td>\n      <td>10.0</td>\n      <td>10.0</td>\n      <td>10.0</td>\n      <td>10.0</td>\n      <td>f</td>\n    </tr>\n    <tr>\n      <th>2</th>\n      <td>4082273</td>\n      <td>Lovely apartment with Terrace, 60m2</td>\n      <td>19252768</td>\n      <td>31/07/2014</td>\n      <td>Paris, Ile-de-France, France</td>\n      <td>NaN</td>\n      <td>NaN</td>\n      <td>NaN</td>\n      <td>f</td>\n      <td>1.0</td>\n      <td>...</td>\n      <td>2</td>\n      <td>1125</td>\n      <td>100.0</td>\n      <td>10.0</td>\n      <td>10.0</td>\n      <td>10.0</td>\n      <td>10.0</td>\n      <td>10.0</td>\n      <td>10.0</td>\n      <td>f</td>\n    </tr>\n    <tr>\n      <th>3</th>\n      <td>4797344</td>\n      <td>Cosy studio (close to Eiffel tower)</td>\n      <td>10668311</td>\n      <td>17/12/2013</td>\n      <td>Paris, Ile-de-France, France</td>\n      <td>NaN</td>\n      <td>NaN</td>\n      <td>NaN</td>\n      <td>f</td>\n      <td>1.0</td>\n      <td>...</td>\n      <td>2</td>\n      <td>1125</td>\n      <td>100.0</td>\n      <td>10.0</td>\n      <td>10.0</td>\n      <td>10.0</td>\n      <td>10.0</td>\n      <td>10.0</td>\n      <td>10.0</td>\n      <td>f</td>\n    </tr>\n    <tr>\n      <th>4</th>\n      <td>4823489</td>\n      <td>Close to Eiffel Tower - Beautiful flat : 2 rooms</td>\n      <td>24837558</td>\n      <td>14/12/2014</td>\n      <td>Paris, Ile-de-France, France</td>\n      <td>NaN</td>\n      <td>NaN</td>\n      <td>NaN</td>\n      <td>f</td>\n      <td>1.0</td>\n      <td>...</td>\n      <td>2</td>\n      <td>1125</td>\n      <td>100.0</td>\n      <td>10.0</td>\n      <td>10.0</td>\n      <td>10.0</td>\n      <td>10.0</td>\n      <td>10.0</td>\n      <td>10.0</td>\n      <td>f</td>\n    </tr>\n  </tbody>\n</table>\n<p>5 rows × 33 columns</p>\n</div>"
     },
     "execution_count": 5,
     "metadata": {},
     "output_type": "execute_result"
    }
   ],
   "source": [
    "#reading data\n",
    "dfAll = pd.read_csv('Airbnb_Data/Listings.csv', low_memory=False)\n",
    "dfAll.head(5)"
   ]
  },
  {
   "cell_type": "code",
   "execution_count": 6,
   "metadata": {
    "pycharm": {
     "name": "#%%\n"
    }
   },
   "outputs": [
    {
     "data": {
      "text/plain": "Paris, Ile-de-France, France                           47794\nNew York, New York, United States                      24040\nRome, Lazio, Italy                                     20138\nCape Town, Western Cape, South Africa                  13602\nRio de Janeiro, State of Rio de Janeiro, Brazil        13211\n                                                       ...  \nNiort, Poitou-Charentes, France                            1\nGloversville, New York, United States                      1\nRangsit, Pathum Thani, Thailand                            1\nOzumba de Alzate, Estado de Mexico, Mexico                 1\nBrasÃƒÂ­lia de Minas, State of Minas Gerais, Brazil        1\nName: host_location, Length: 7159, dtype: int64"
     },
     "execution_count": 6,
     "metadata": {},
     "output_type": "execute_result"
    }
   ],
   "source": [
    "dfAll['host_location'].value_counts()"
   ]
  },
  {
   "cell_type": "code",
   "execution_count": 8,
   "metadata": {
    "pycharm": {
     "name": "#%%\n"
    }
   },
   "outputs": [],
   "source": [
    "df = dfAll[dfAll['host_location'] == 'Paris, Ile-de-France, France']"
   ]
  },
  {
   "cell_type": "code",
   "execution_count": 9,
   "metadata": {
    "pycharm": {
     "name": "#%%\n"
    }
   },
   "outputs": [
    {
     "data": {
      "text/plain": "Paris             47468\nNew York             98\nRome                 64\nRio de Janeiro       60\nSydney               45\nIstanbul             22\nMexico City          14\nHong Kong            10\nCape Town             8\nBangkok               5\nName: city, dtype: int64"
     },
     "execution_count": 9,
     "metadata": {},
     "output_type": "execute_result"
    }
   ],
   "source": [
    "df['city'].value_counts()"
   ]
  },
  {
   "cell_type": "code",
   "execution_count": 10,
   "metadata": {
    "pycharm": {
     "name": "#%%\n"
    }
   },
   "outputs": [],
   "source": [
    "#subsetting Paris-only data\n",
    "df = df[df['city'] == 'Paris']"
   ]
  },
  {
   "cell_type": "code",
   "execution_count": 11,
   "metadata": {
    "pycharm": {
     "name": "#%%\n"
    }
   },
   "outputs": [
    {
     "name": "stdout",
     "output_type": "stream",
     "text": [
      "<class 'pandas.core.frame.DataFrame'>\n",
      "Int64Index: 47468 entries, 0 to 279711\n",
      "Data columns (total 33 columns):\n",
      " #   Column                       Non-Null Count  Dtype  \n",
      "---  ------                       --------------  -----  \n",
      " 0   listing_id                   47468 non-null  int64  \n",
      " 1   name                         47417 non-null  object \n",
      " 2   host_id                      47468 non-null  int64  \n",
      " 3   host_since                   47468 non-null  object \n",
      " 4   host_location                47468 non-null  object \n",
      " 5   host_response_time           16527 non-null  object \n",
      " 6   host_response_rate           16527 non-null  float64\n",
      " 7   host_acceptance_rate         23192 non-null  float64\n",
      " 8   host_is_superhost            47468 non-null  object \n",
      " 9   host_total_listings_count    47468 non-null  float64\n",
      " 10  host_has_profile_pic         47468 non-null  object \n",
      " 11  host_identity_verified       47468 non-null  object \n",
      " 12  neighbourhood                47468 non-null  object \n",
      " 13  district                     0 non-null      object \n",
      " 14  city                         47468 non-null  object \n",
      " 15  latitude                     47468 non-null  float64\n",
      " 16  longitude                    47468 non-null  float64\n",
      " 17  property_type                47468 non-null  object \n",
      " 18  room_type                    47468 non-null  object \n",
      " 19  accommodates                 47468 non-null  int64  \n",
      " 20  bedrooms                     38384 non-null  float64\n",
      " 21  amenities                    47468 non-null  object \n",
      " 22  price                        47468 non-null  int64  \n",
      " 23  minimum_nights               47468 non-null  int64  \n",
      " 24  maximum_nights               47468 non-null  int64  \n",
      " 25  review_scores_rating         36948 non-null  float64\n",
      " 26  review_scores_accuracy       36912 non-null  float64\n",
      " 27  review_scores_cleanliness    36919 non-null  float64\n",
      " 28  review_scores_checkin        36898 non-null  float64\n",
      " 29  review_scores_communication  36911 non-null  float64\n",
      " 30  review_scores_location       36899 non-null  float64\n",
      " 31  review_scores_value          36900 non-null  float64\n",
      " 32  instant_bookable             47468 non-null  object \n",
      "dtypes: float64(13), int64(6), object(14)\n",
      "memory usage: 12.3+ MB\n"
     ]
    }
   ],
   "source": [
    "df.info()"
   ]
  },
  {
   "cell_type": "code",
   "execution_count": 12,
   "metadata": {},
   "outputs": [
    {
     "data": {
      "text/plain": "listing_id                         0\nname                              51\nhost_id                            0\nhost_since                         0\nhost_location                      0\nhost_response_time             30941\nhost_response_rate             30941\nhost_acceptance_rate           24276\nhost_is_superhost                  0\nhost_total_listings_count          0\nhost_has_profile_pic               0\nhost_identity_verified             0\nneighbourhood                      0\ndistrict                       47468\ncity                               0\nlatitude                           0\nlongitude                          0\nproperty_type                      0\nroom_type                          0\naccommodates                       0\nbedrooms                        9084\namenities                          0\nprice                              0\nminimum_nights                     0\nmaximum_nights                     0\nreview_scores_rating           10520\nreview_scores_accuracy         10556\nreview_scores_cleanliness      10549\nreview_scores_checkin          10570\nreview_scores_communication    10557\nreview_scores_location         10569\nreview_scores_value            10568\ninstant_bookable                   0\ndtype: int64"
     },
     "execution_count": 12,
     "metadata": {},
     "output_type": "execute_result"
    }
   ],
   "source": [
    "#looking at missing values\n",
    "pd.isnull(df).sum()"
   ]
  },
  {
   "cell_type": "code",
   "execution_count": 13,
   "metadata": {
    "pycharm": {
     "name": "#%%\n"
    }
   },
   "outputs": [],
   "source": [
    "#dropping useless columns\n",
    "df = df.drop(['district','host_response_rate','host_response_time','host_acceptance_rate'],axis=1)"
   ]
  },
  {
   "cell_type": "code",
   "execution_count": 14,
   "metadata": {
    "pycharm": {
     "name": "#%%\n"
    }
   },
   "outputs": [
    {
     "name": "stderr",
     "output_type": "stream",
     "text": [
      "C:\\Users\\mates\\AppData\\Local\\Temp/ipykernel_13820/3881464367.py:2: FutureWarning: Dropping of nuisance columns in DataFrame reductions (with 'numeric_only=None') is deprecated; in a future version this will raise TypeError.  Select only valid columns before calling the reduction.\n",
      "  df = df.fillna(df.mean(axis=0))\n"
     ]
    }
   ],
   "source": [
    "#filling missing values\n",
    "df = df.fillna(df.mean(axis=0))"
   ]
  },
  {
   "cell_type": "markdown",
   "metadata": {
    "pycharm": {
     "name": "#%% md\n"
    }
   },
   "source": [
    "#### Filling NAs in review_xx columns with it's means"
   ]
  },
  {
   "cell_type": "markdown",
   "metadata": {
    "pycharm": {
     "name": "#%% md\n"
    }
   },
   "source": [
    "#### Working with amenities column, selecting only interesting and meaningful categories, spliting them into boolean columns"
   ]
  },
  {
   "cell_type": "code",
   "execution_count": 15,
   "metadata": {
    "pycharm": {
     "name": "#%%\n"
    }
   },
   "outputs": [],
   "source": [
    "amenitiesList = df.explode('amenities')\n",
    "amenitiesList['amenities'] = amenitiesList['amenities'].apply(eval)"
   ]
  },
  {
   "cell_type": "code",
   "execution_count": 16,
   "metadata": {
    "pycharm": {
     "name": "#%%\n"
    }
   },
   "outputs": [
    {
     "data": {
      "text/plain": "['Heating',\n 'Kitchen',\n 'Washer',\n 'Wifi',\n 'Long term stays allowed',\n 'Shampoo',\n 'Heating',\n 'Kitchen',\n 'Essentials',\n 'Washer']"
     },
     "execution_count": 16,
     "metadata": {},
     "output_type": "execute_result"
    }
   ],
   "source": [
    "categories = []\n",
    "for index, row in amenitiesList.iterrows():\n",
    "    categories.extend(row['amenities'])\n",
    "\n",
    "categories[:10]"
   ]
  },
  {
   "cell_type": "code",
   "execution_count": 17,
   "metadata": {
    "pycharm": {
     "name": "#%%\n"
    }
   },
   "outputs": [
    {
     "name": "stdout",
     "output_type": "stream",
     "text": [
      "                             0\n",
      "Heating                  45079\n",
      "Wifi                     44883\n",
      "Kitchen                  44385\n",
      "Essentials               44106\n",
      "Long term stays allowed  37276\n",
      "Washer                   36929\n",
      "Smoke alarm              34302\n",
      "Hair dryer               32933\n",
      "Hangers                  32759\n",
      "Iron                     32581\n"
     ]
    }
   ],
   "source": [
    "dfOccur = pd.value_counts(np.array(categories)).to_frame()\n",
    "pd.set_option('display.max_rows', None)\n",
    "print(dfOccur[:10])"
   ]
  },
  {
   "cell_type": "code",
   "execution_count": 20,
   "metadata": {
    "pycharm": {
     "name": "#%%\n"
    }
   },
   "outputs": [],
   "source": [
    "setCategories = set(categories)"
   ]
  },
  {
   "cell_type": "code",
   "execution_count": 19,
   "metadata": {
    "pycharm": {
     "name": "#%%\n"
    }
   },
   "outputs": [
    {
     "data": {
      "text/plain": "634"
     },
     "execution_count": 19,
     "metadata": {},
     "output_type": "execute_result"
    }
   ],
   "source": [
    "len(setCategories)"
   ]
  },
  {
   "cell_type": "markdown",
   "metadata": {
    "pycharm": {
     "name": "#%% md\n"
    }
   },
   "source": [
    "#### Selecting a few interesting categories based on their occurrence and on \"subjective\" value while choosing AirBnB"
   ]
  },
  {
   "cell_type": "code",
   "execution_count": 21,
   "metadata": {
    "pycharm": {
     "name": "#%%\n"
    }
   },
   "outputs": [],
   "source": [
    "perks = ['parking', 'Hot water','Air conditioning','Lockbox','Ethernet connection','balcony','Private entrance',\n",
    "         'TV','Dedicated workspace','Refrigerator','Cooking','Bathtub','Shower']"
   ]
  },
  {
   "cell_type": "code",
   "execution_count": 22,
   "metadata": {
    "pycharm": {
     "name": "#%%\n"
    }
   },
   "outputs": [],
   "source": [
    "for perk in perks:\n",
    "    df[perk] = df['amenities'].str.contains(perk)"
   ]
  },
  {
   "cell_type": "code",
   "execution_count": 23,
   "metadata": {
    "pycharm": {
     "name": "#%%\n"
    }
   },
   "outputs": [],
   "source": [
    "pd.reset_option('display.max_rows')"
   ]
  },
  {
   "cell_type": "code",
   "execution_count": 24,
   "metadata": {
    "pycharm": {
     "name": "#%%\n"
    }
   },
   "outputs": [
    {
     "data": {
      "text/plain": "        listing_id                                               name  \\\n0           281420     Beautiful Flat in le Village Montmartre, Paris   \n1          3705183                    39 mÃ‚Â² Paris (Sacre CÃ…â€œur)   \n2          4082273                Lovely apartment with Terrace, 60m2   \n3          4797344                Cosy studio (close to Eiffel tower)   \n4          4823489   Close to Eiffel Tower - Beautiful flat : 2 rooms   \n...            ...                                                ...   \n279707    38338635  Appartement T2 neuf prÃƒÂ¨s du tram T3a Porte ...   \n279708    38538692                          Cozy Studio in Montmartre   \n279709    38683356            Nice and cosy mini-appartement in Paris   \n279710    39659000  Charming apartment near Rue Saint Maur / Oberk...   \n279711    40219504        Cosy apartment with view on Canal St Martin   \n\n         host_id  host_since                 host_location host_is_superhost  \\\n0        1466919  03/12/2011  Paris, Ile-de-France, France                 f   \n1       10328771  29/11/2013  Paris, Ile-de-France, France                 f   \n2       19252768  31/07/2014  Paris, Ile-de-France, France                 f   \n3       10668311  17/12/2013  Paris, Ile-de-France, France                 f   \n4       24837558  14/12/2014  Paris, Ile-de-France, France                 f   \n...          ...         ...                           ...               ...   \n279707  31161181  13/04/2015  Paris, Ile-de-France, France                 f   \n279708  10294858  27/11/2013  Paris, Ile-de-France, France                 f   \n279709   2238502  27/04/2012  Paris, Ile-de-France, France                 f   \n279710  38633695  16/07/2015  Paris, Ile-de-France, France                 f   \n279711   6955618  17/06/2013  Paris, Ile-de-France, France                 f   \n\n        host_total_listings_count host_has_profile_pic host_identity_verified  \\\n0                             1.0                    t                      f   \n1                             1.0                    t                      t   \n2                             1.0                    t                      f   \n3                             1.0                    t                      t   \n4                             1.0                    t                      f   \n...                           ...                  ...                    ...   \n279707                        1.0                    t                      t   \n279708                        1.0                    t                      t   \n279709                        1.0                    t                      t   \n279710                        1.0                    t                      t   \n279711                        1.0                    t                      t   \n\n            neighbourhood  ... Lockbox  Ethernet connection  balcony  \\\n0       Buttes-Montmartre  ...   False                False    False   \n1       Buttes-Montmartre  ...   False                False    False   \n2                  Elysee  ...   False                False    False   \n3               Vaugirard  ...   False                False    False   \n4                   Passy  ...   False                False    False   \n...                   ...  ...     ...                  ...      ...   \n279707       Observatoire  ...   False                False    False   \n279708  Buttes-Montmartre  ...   False                False    False   \n279709  Buttes-Montmartre  ...   False                False    False   \n279710         Popincourt  ...   False                False    False   \n279711  Enclos-St-Laurent  ...   False                False    False   \n\n       Private entrance     TV  Dedicated workspace  Refrigerator Cooking  \\\n0                 False  False                False         False   False   \n1                 False  False                False         False   False   \n2                 False   True                False         False   False   \n3                 False   True                False         False   False   \n4                 False   True                False         False   False   \n...                 ...    ...                  ...           ...     ...   \n279707            False   True                 True         False   False   \n279708            False   True                False         False   False   \n279709            False  False                 True         False   False   \n279710            False   True                 True         False   False   \n279711            False  False                 True          True    True   \n\n        Bathtub  Shower  \n0         False   False  \n1         False   False  \n2         False   False  \n3         False   False  \n4          True   False  \n...         ...     ...  \n279707    False   False  \n279708    False   False  \n279709    False   False  \n279710    False   False  \n279711    False    True  \n\n[47468 rows x 42 columns]",
      "text/html": "<div>\n<style scoped>\n    .dataframe tbody tr th:only-of-type {\n        vertical-align: middle;\n    }\n\n    .dataframe tbody tr th {\n        vertical-align: top;\n    }\n\n    .dataframe thead th {\n        text-align: right;\n    }\n</style>\n<table border=\"1\" class=\"dataframe\">\n  <thead>\n    <tr style=\"text-align: right;\">\n      <th></th>\n      <th>listing_id</th>\n      <th>name</th>\n      <th>host_id</th>\n      <th>host_since</th>\n      <th>host_location</th>\n      <th>host_is_superhost</th>\n      <th>host_total_listings_count</th>\n      <th>host_has_profile_pic</th>\n      <th>host_identity_verified</th>\n      <th>neighbourhood</th>\n      <th>...</th>\n      <th>Lockbox</th>\n      <th>Ethernet connection</th>\n      <th>balcony</th>\n      <th>Private entrance</th>\n      <th>TV</th>\n      <th>Dedicated workspace</th>\n      <th>Refrigerator</th>\n      <th>Cooking</th>\n      <th>Bathtub</th>\n      <th>Shower</th>\n    </tr>\n  </thead>\n  <tbody>\n    <tr>\n      <th>0</th>\n      <td>281420</td>\n      <td>Beautiful Flat in le Village Montmartre, Paris</td>\n      <td>1466919</td>\n      <td>03/12/2011</td>\n      <td>Paris, Ile-de-France, France</td>\n      <td>f</td>\n      <td>1.0</td>\n      <td>t</td>\n      <td>f</td>\n      <td>Buttes-Montmartre</td>\n      <td>...</td>\n      <td>False</td>\n      <td>False</td>\n      <td>False</td>\n      <td>False</td>\n      <td>False</td>\n      <td>False</td>\n      <td>False</td>\n      <td>False</td>\n      <td>False</td>\n      <td>False</td>\n    </tr>\n    <tr>\n      <th>1</th>\n      <td>3705183</td>\n      <td>39 mÃ‚Â² Paris (Sacre CÃ…â€œur)</td>\n      <td>10328771</td>\n      <td>29/11/2013</td>\n      <td>Paris, Ile-de-France, France</td>\n      <td>f</td>\n      <td>1.0</td>\n      <td>t</td>\n      <td>t</td>\n      <td>Buttes-Montmartre</td>\n      <td>...</td>\n      <td>False</td>\n      <td>False</td>\n      <td>False</td>\n      <td>False</td>\n      <td>False</td>\n      <td>False</td>\n      <td>False</td>\n      <td>False</td>\n      <td>False</td>\n      <td>False</td>\n    </tr>\n    <tr>\n      <th>2</th>\n      <td>4082273</td>\n      <td>Lovely apartment with Terrace, 60m2</td>\n      <td>19252768</td>\n      <td>31/07/2014</td>\n      <td>Paris, Ile-de-France, France</td>\n      <td>f</td>\n      <td>1.0</td>\n      <td>t</td>\n      <td>f</td>\n      <td>Elysee</td>\n      <td>...</td>\n      <td>False</td>\n      <td>False</td>\n      <td>False</td>\n      <td>False</td>\n      <td>True</td>\n      <td>False</td>\n      <td>False</td>\n      <td>False</td>\n      <td>False</td>\n      <td>False</td>\n    </tr>\n    <tr>\n      <th>3</th>\n      <td>4797344</td>\n      <td>Cosy studio (close to Eiffel tower)</td>\n      <td>10668311</td>\n      <td>17/12/2013</td>\n      <td>Paris, Ile-de-France, France</td>\n      <td>f</td>\n      <td>1.0</td>\n      <td>t</td>\n      <td>t</td>\n      <td>Vaugirard</td>\n      <td>...</td>\n      <td>False</td>\n      <td>False</td>\n      <td>False</td>\n      <td>False</td>\n      <td>True</td>\n      <td>False</td>\n      <td>False</td>\n      <td>False</td>\n      <td>False</td>\n      <td>False</td>\n    </tr>\n    <tr>\n      <th>4</th>\n      <td>4823489</td>\n      <td>Close to Eiffel Tower - Beautiful flat : 2 rooms</td>\n      <td>24837558</td>\n      <td>14/12/2014</td>\n      <td>Paris, Ile-de-France, France</td>\n      <td>f</td>\n      <td>1.0</td>\n      <td>t</td>\n      <td>f</td>\n      <td>Passy</td>\n      <td>...</td>\n      <td>False</td>\n      <td>False</td>\n      <td>False</td>\n      <td>False</td>\n      <td>True</td>\n      <td>False</td>\n      <td>False</td>\n      <td>False</td>\n      <td>True</td>\n      <td>False</td>\n    </tr>\n    <tr>\n      <th>...</th>\n      <td>...</td>\n      <td>...</td>\n      <td>...</td>\n      <td>...</td>\n      <td>...</td>\n      <td>...</td>\n      <td>...</td>\n      <td>...</td>\n      <td>...</td>\n      <td>...</td>\n      <td>...</td>\n      <td>...</td>\n      <td>...</td>\n      <td>...</td>\n      <td>...</td>\n      <td>...</td>\n      <td>...</td>\n      <td>...</td>\n      <td>...</td>\n      <td>...</td>\n      <td>...</td>\n    </tr>\n    <tr>\n      <th>279707</th>\n      <td>38338635</td>\n      <td>Appartement T2 neuf prÃƒÂ¨s du tram T3a Porte ...</td>\n      <td>31161181</td>\n      <td>13/04/2015</td>\n      <td>Paris, Ile-de-France, France</td>\n      <td>f</td>\n      <td>1.0</td>\n      <td>t</td>\n      <td>t</td>\n      <td>Observatoire</td>\n      <td>...</td>\n      <td>False</td>\n      <td>False</td>\n      <td>False</td>\n      <td>False</td>\n      <td>True</td>\n      <td>True</td>\n      <td>False</td>\n      <td>False</td>\n      <td>False</td>\n      <td>False</td>\n    </tr>\n    <tr>\n      <th>279708</th>\n      <td>38538692</td>\n      <td>Cozy Studio in Montmartre</td>\n      <td>10294858</td>\n      <td>27/11/2013</td>\n      <td>Paris, Ile-de-France, France</td>\n      <td>f</td>\n      <td>1.0</td>\n      <td>t</td>\n      <td>t</td>\n      <td>Buttes-Montmartre</td>\n      <td>...</td>\n      <td>False</td>\n      <td>False</td>\n      <td>False</td>\n      <td>False</td>\n      <td>True</td>\n      <td>False</td>\n      <td>False</td>\n      <td>False</td>\n      <td>False</td>\n      <td>False</td>\n    </tr>\n    <tr>\n      <th>279709</th>\n      <td>38683356</td>\n      <td>Nice and cosy mini-appartement in Paris</td>\n      <td>2238502</td>\n      <td>27/04/2012</td>\n      <td>Paris, Ile-de-France, France</td>\n      <td>f</td>\n      <td>1.0</td>\n      <td>t</td>\n      <td>t</td>\n      <td>Buttes-Montmartre</td>\n      <td>...</td>\n      <td>False</td>\n      <td>False</td>\n      <td>False</td>\n      <td>False</td>\n      <td>False</td>\n      <td>True</td>\n      <td>False</td>\n      <td>False</td>\n      <td>False</td>\n      <td>False</td>\n    </tr>\n    <tr>\n      <th>279710</th>\n      <td>39659000</td>\n      <td>Charming apartment near Rue Saint Maur / Oberk...</td>\n      <td>38633695</td>\n      <td>16/07/2015</td>\n      <td>Paris, Ile-de-France, France</td>\n      <td>f</td>\n      <td>1.0</td>\n      <td>t</td>\n      <td>t</td>\n      <td>Popincourt</td>\n      <td>...</td>\n      <td>False</td>\n      <td>False</td>\n      <td>False</td>\n      <td>False</td>\n      <td>True</td>\n      <td>True</td>\n      <td>False</td>\n      <td>False</td>\n      <td>False</td>\n      <td>False</td>\n    </tr>\n    <tr>\n      <th>279711</th>\n      <td>40219504</td>\n      <td>Cosy apartment with view on Canal St Martin</td>\n      <td>6955618</td>\n      <td>17/06/2013</td>\n      <td>Paris, Ile-de-France, France</td>\n      <td>f</td>\n      <td>1.0</td>\n      <td>t</td>\n      <td>t</td>\n      <td>Enclos-St-Laurent</td>\n      <td>...</td>\n      <td>False</td>\n      <td>False</td>\n      <td>False</td>\n      <td>False</td>\n      <td>False</td>\n      <td>True</td>\n      <td>True</td>\n      <td>True</td>\n      <td>False</td>\n      <td>True</td>\n    </tr>\n  </tbody>\n</table>\n<p>47468 rows × 42 columns</p>\n</div>"
     },
     "execution_count": 24,
     "metadata": {},
     "output_type": "execute_result"
    }
   ],
   "source": [
    "df"
   ]
  },
  {
   "cell_type": "markdown",
   "metadata": {
    "pycharm": {
     "name": "#%% md\n"
    }
   },
   "source": [
    "#### Dropping more columns and creating a new categorical one based on price.\n",
    "##### Split is into 3 categories, cheap >75, average >200 and expensive\n",
    "##### Saving the dataframe to csv -> ready for EDA, ready for modelling"
   ]
  },
  {
   "cell_type": "code",
   "execution_count": 25,
   "metadata": {
    "pycharm": {
     "name": "#%%\n"
    }
   },
   "outputs": [],
   "source": [
    "df = df.drop(['host_id','host_has_profile_pic','amenities','city'], axis=1)"
   ]
  },
  {
   "cell_type": "code",
   "execution_count": 26,
   "metadata": {
    "pycharm": {
     "name": "#%%\n"
    }
   },
   "outputs": [],
   "source": [
    "df = df.rename(columns={\"Air conditioning\": \"Air_conditioning\", \"Hot water\": \"Hot_water\",\n",
    "                   \"Private entrance\":\"Private_entrance\",\"Dedicated workspace\":\"Dedicated_workspace\"})"
   ]
  },
  {
   "cell_type": "code",
   "execution_count": 27,
   "metadata": {
    "pycharm": {
     "name": "#%%\n"
    }
   },
   "outputs": [
    {
     "data": {
      "text/plain": "count    47468.000000\nmean       110.788005\nstd        199.875762\nmin          0.000000\n25%         59.000000\n50%         80.000000\n75%        119.000000\nmax      11599.000000\nName: price, dtype: float64"
     },
     "execution_count": 27,
     "metadata": {},
     "output_type": "execute_result"
    }
   ],
   "source": [
    "df['price'].describe()"
   ]
  },
  {
   "cell_type": "code",
   "execution_count": 28,
   "metadata": {
    "pycharm": {
     "name": "#%%\n"
    }
   },
   "outputs": [],
   "source": [
    "bins=[0, 75, 200, 36474]\n",
    "labels=['Cheap', 'Average', 'Expensive']\n",
    "df['price_category'] = pd.cut(df['price'], bins, labels=labels)"
   ]
  },
  {
   "cell_type": "code",
   "execution_count": 29,
   "metadata": {
    "pycharm": {
     "name": "#%%\n"
    }
   },
   "outputs": [
    {
     "data": {
      "text/plain": "Average      21981\nCheap        21706\nExpensive     3759\nName: price_category, dtype: int64"
     },
     "execution_count": 29,
     "metadata": {},
     "output_type": "execute_result"
    }
   ],
   "source": [
    "df['price_category'].value_counts()"
   ]
  },
  {
   "cell_type": "code",
   "execution_count": 30,
   "metadata": {
    "pycharm": {
     "name": "#%%\n"
    }
   },
   "outputs": [],
   "source": [
    "df.to_csv('Airbnb_Data/prepListings.csv', index=False)"
   ]
  },
  {
   "cell_type": "code",
   "execution_count": 31,
   "metadata": {
    "pycharm": {
     "name": "#%%\n"
    }
   },
   "outputs": [],
   "source": [
    "bins=[0, 75, 200, 36474]\n",
    "labels=[1, 2, 3]\n",
    "df['price_catN'] = pd.cut(df['price'], bins, labels=labels)"
   ]
  },
  {
   "cell_type": "code",
   "execution_count": 32,
   "metadata": {
    "pycharm": {
     "name": "#%%\n"
    }
   },
   "outputs": [
    {
     "data": {
      "text/plain": "2    21981\n1    21706\n3     3759\nName: price_catN, dtype: int64"
     },
     "execution_count": 32,
     "metadata": {},
     "output_type": "execute_result"
    }
   ],
   "source": [
    "df['price_catN'].value_counts()"
   ]
  },
  {
   "cell_type": "code",
   "execution_count": 33,
   "metadata": {
    "pycharm": {
     "name": "#%%\n"
    }
   },
   "outputs": [],
   "source": [
    "df.to_csv('Airbnb_Data/modelListings.csv', index=False)"
   ]
  }
 ],
 "metadata": {
  "kernelspec": {
   "display_name": "Python 3 (ipykernel)",
   "language": "python",
   "name": "python3"
  },
  "language_info": {
   "codemirror_mode": {
    "name": "ipython",
    "version": 3
   },
   "file_extension": ".py",
   "mimetype": "text/x-python",
   "name": "python",
   "nbconvert_exporter": "python",
   "pygments_lexer": "ipython3",
   "version": "3.9.7"
  }
 },
 "nbformat": 4,
 "nbformat_minor": 1
}